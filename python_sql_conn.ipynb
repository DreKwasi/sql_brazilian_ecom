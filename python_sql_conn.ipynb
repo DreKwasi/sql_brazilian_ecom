{
 "cells": [
  {
   "cell_type": "code",
   "execution_count": null,
   "metadata": {},
   "outputs": [],
   "source": [
    "# IMPORT lIBRARIES\n",
    "from sqlalchemy import create_engine\n",
    "import pandas as pd\n",
    "import glob\n",
    "import os\n",
    "from dotenv import dotenv_values, load_dotenv"
   ]
  },
  {
   "cell_type": "code",
   "execution_count": null,
   "metadata": {},
   "outputs": [],
   "source": [
    "# get the current working directory\n",
    "curr_dir = os.getcwd()"
   ]
  },
  {
   "cell_type": "code",
   "execution_count": null,
   "metadata": {},
   "outputs": [],
   "source": [
    "os.chdir(f\"{curr_dir}/data\") #change directory to data folder\n",
    "all_files = glob.glob(\"*.csv\") #get all csv file names\n",
    "spec_files = [\"olist_orders_dataset.csv\", \"olist_order_reviews_dataset.csv\"] #csvs with datetimes are separated\n",
    "[all_files.remove(x) for x in spec_files] #csvs with datetimes are removed\n",
    "data_list = { filename[:-4]: pd.read_csv(filename) for filename in all_files} #dictionay for each filename and dataframe\n",
    "\n"
   ]
  },
  {
   "cell_type": "code",
   "execution_count": null,
   "metadata": {},
   "outputs": [],
   "source": [
    "# Environment Variables\n",
    "config = dotenv_values(\".env\")\n",
    "\n",
    "# connect to postgres database using sqlalchemy\n",
    "engine = create_engine(f\"postgresql+psycopg2://{config['USERNAME']}:{config['PASSWORD']}@{config['HOST']}/{config['DATABASE']}\")"
   ]
  },
  {
   "cell_type": "code",
   "execution_count": null,
   "metadata": {},
   "outputs": [],
   "source": [
    "# loop through keys and values to insert dataframes into postgres\n",
    "for key, value in data_list.items():\n",
    "    data_list[key].to_sql(name=key, con=engine, index=False, schema=None)"
   ]
  },
  {
   "cell_type": "code",
   "execution_count": null,
   "metadata": {},
   "outputs": [],
   "source": [
    "# parsing the csv files of data with timestamps \n",
    "spec_files = [\"olist_orders_dataset.csv\", \"olist_order_reviews_dataset.csv\"]\n",
    "# Olist Orders\n",
    "date_types_orders = ['order_purchase_timestamp',\n",
    "       'order_approved_at', 'order_delivered_carrier_date',\n",
    "       'order_delivered_customer_date', 'order_estimated_delivery_date']\n",
    "       \n",
    "date_types_reviews = ['review_creation_date',\n",
    "       'review_answer_timestamp']\n",
    "\n",
    "orders = pd.read_csv(spec_files[0], parse_dates=date_types_orders)\n",
    "reviews = pd.read_csv(spec_files[1], parse_dates=date_types_reviews)"
   ]
  },
  {
   "cell_type": "code",
   "execution_count": null,
   "metadata": {},
   "outputs": [],
   "source": [
    "# inserting dataframes in postgres\n",
    "orders.to_sql(name=spec_files[0][:-4], con=engine, index=False, schema=None)\n",
    "\n",
    "reviews.to_sql(name=spec_files[1][:-4], con=engine, index=False, schema=None)"
   ]
  }
 ],
 "metadata": {
  "kernelspec": {
   "display_name": "py_env",
   "language": "python",
   "name": "python3"
  },
  "language_info": {
   "codemirror_mode": {
    "name": "ipython",
    "version": 3
   },
   "file_extension": ".py",
   "mimetype": "text/x-python",
   "name": "python",
   "nbconvert_exporter": "python",
   "pygments_lexer": "ipython3",
   "version": "3.10.7"
  },
  "orig_nbformat": 4,
  "vscode": {
   "interpreter": {
    "hash": "47f5f64dece68205e1764983e4d795c1b74b72d0e80ab681602c61dcded320dc"
   }
  }
 },
 "nbformat": 4,
 "nbformat_minor": 2
}
